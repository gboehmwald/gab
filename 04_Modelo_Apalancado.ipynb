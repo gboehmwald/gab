{
  "cells": [
    {
      "cell_type": "markdown",
      "metadata": {
        "id": "view-in-github",
        "colab_type": "text"
      },
      "source": [
        "<a href=\"https://colab.research.google.com/github/gboehmwald/gab/blob/main/04_Modelo_Apalancado.ipynb\" target=\"_parent\"><img src=\"https://colab.research.google.com/assets/colab-badge.svg\" alt=\"Open In Colab\"/></a>"
      ]
    },
    {
      "cell_type": "markdown",
      "id": "17cfe4d3",
      "metadata": {
        "id": "17cfe4d3"
      },
      "source": [
        "## Extensión"
      ]
    },
    {
      "cell_type": "code",
      "source": [
        "pip install gurobipy"
      ],
      "metadata": {
        "id": "Xc98cWC-fpG2",
        "colab": {
          "base_uri": "https://localhost:8080/"
        },
        "outputId": "1ab17e4e-f5f5-4b9e-ed6e-491c2e401178"
      },
      "id": "Xc98cWC-fpG2",
      "execution_count": null,
      "outputs": [
        {
          "output_type": "stream",
          "name": "stdout",
          "text": [
            "Collecting gurobipy\n",
            "  Downloading gurobipy-12.0.3-cp312-cp312-manylinux2014_x86_64.manylinux_2_17_x86_64.whl.metadata (16 kB)\n",
            "Downloading gurobipy-12.0.3-cp312-cp312-manylinux2014_x86_64.manylinux_2_17_x86_64.whl (14.3 MB)\n",
            "\u001b[2K   \u001b[90m━━━━━━━━━━━━━━━━━━━━━━━━━━━━━━━━━━━━━━━━\u001b[0m \u001b[32m14.3/14.3 MB\u001b[0m \u001b[31m102.4 MB/s\u001b[0m eta \u001b[36m0:00:00\u001b[0m\n",
            "\u001b[?25hInstalling collected packages: gurobipy\n",
            "Successfully installed gurobipy-12.0.3\n"
          ]
        }
      ]
    },
    {
      "cell_type": "code",
      "execution_count": null,
      "id": "388b8e2e",
      "metadata": {
        "execution": {
          "iopub.execute_input": "2024-06-10T06:22:45.327518Z",
          "iopub.status.busy": "2024-06-10T06:22:45.327305Z",
          "iopub.status.idle": "2024-06-10T06:22:47.539760Z",
          "shell.execute_reply": "2024-06-10T06:22:47.539148Z"
        },
        "id": "388b8e2e"
      },
      "outputs": [],
      "source": [
        "import gurobipy as gp\n",
        "import pandas as pd\n",
        "import numpy as np\n",
        "\n",
        "import matplotlib.pyplot as plt\n",
        "import seaborn as sns\n",
        "\n",
        "sns.set_theme()"
      ]
    },
    {
      "cell_type": "markdown",
      "id": "589f29c8",
      "metadata": {
        "id": "589f29c8"
      },
      "source": [
        "## Datos de Entrada\n",
        "\n",
        "Los siguientes datos de entrada se utilizan en el modelo:\n",
        "\n",
        "- $S$: conjunto de acciones\n",
        "- $\\mu$: vector de rendimientos esperados\n",
        "- $\\Sigma$: matriz de varianza-covarianza\n",
        "    - $\\sigma_{ij}$ covarianza entre los rendimientos de los activos $i$ y $j$\n",
        "    - $\\sigma_{ii}$ varianza del rendimiento del activo $i$"
      ]
    },
    {
      "cell_type": "code",
      "execution_count": null,
      "id": "56b32be3",
      "metadata": {
        "execution": {
          "iopub.execute_input": "2024-06-10T06:22:47.851323Z",
          "iopub.status.busy": "2024-06-10T06:22:47.850940Z",
          "iopub.status.idle": "2024-06-10T06:22:47.856087Z",
          "shell.execute_reply": "2024-06-10T06:22:47.855546Z"
        },
        "id": "56b32be3"
      },
      "outputs": [],
      "source": [
        "# Importar datos\n",
        "Sigma = pd.read_pickle(\"sigma.pkl\")\n",
        "mu = pd.read_pickle(\"mu.pkl\")"
      ]
    },
    {
      "cell_type": "markdown",
      "id": "eb59b36e",
      "metadata": {
        "id": "eb59b36e"
      },
      "source": [
        "## Formulación\n",
        "\n",
        "El modelo maximiza el rendimiento esperado total para un nivel fijo de varianza (riesgo) preespecificado. Matemáticamente, esto resulta en un problema de optimización convexa con restricciones cuadráticas.\n",
        "\n",
        "### Variables de Decisión y Cotas de las Variable\n",
        "\n",
        "Las variables de decisión en el modelo son las proporciones de capital invertidas entre las acciones consideradas. El vector correspondiente de posiciones se denota por $x$, donde su componente $x_i$ representa la proporción de capital invertido en la acción $i$.\n",
        "\n",
        "Ahora, la variable de posición no tiene cotas; modelando el apalancamiento y venta en corto.\n",
        "\n",
        "###  Restricciones\n",
        "La restricción presupuestaria garantiza que todo el capital esté invertido:\n",
        "\n",
        "$$\\sum_{i \\in S} x_i =1$$\n",
        "\n",
        "El riesgo estimado debe ser, como máximo, el nivel de varianza admisible preespecificado $\\bar\\sigma^2$:\n",
        "\n",
        "$$x^\\top \\Sigma x \\leq \\bar\\sigma^2$$\n",
        "\n",
        "###  Función Objetivo\n",
        "El objetivo es maximizar el rendimiento esperado del portafolio:\n",
        "\n",
        "$$\\max_x \\mu^\\top x $$\n",
        "\n",
        "Usando gurobipy, esto se puede expresar de la siguiente manera:"
      ]
    },
    {
      "cell_type": "code",
      "execution_count": null,
      "id": "1663761f",
      "metadata": {
        "execution": {
          "iopub.execute_input": "2024-06-10T06:22:47.858534Z",
          "iopub.status.busy": "2024-06-10T06:22:47.858053Z",
          "iopub.status.idle": "2024-06-10T06:22:47.952691Z",
          "shell.execute_reply": "2024-06-10T06:22:47.952102Z"
        },
        "id": "1663761f",
        "colab": {
          "base_uri": "https://localhost:8080/"
        },
        "outputId": "0393b65d-c909-4693-b68f-9549edf52301"
      },
      "outputs": [
        {
          "output_type": "stream",
          "name": "stdout",
          "text": [
            "Restricted license - for non-production use only - expires 2026-11-23\n",
            "Set parameter MIPGap to value 0\n",
            "Set parameter NonConvex to value 2\n"
          ]
        }
      ],
      "source": [
        "V = 35  # varianza máxima admisible (sigma^2)\n",
        "\n",
        "# Crear un modelo de optimización vacío\n",
        "m = gp.Model()\n",
        "\n",
        "# Agregar variables: x[i] denota la proporción invertida en la acción i\n",
        "x = m.addMVar(len(mu), lb=-np.inf, ub=np.inf, name=\"x\")\n",
        "\n",
        "# Restricción presupuestaria: todas las inversiones suman 1\n",
        "m.addConstr(x.sum() == 1, name=\"Restriccion_Presupuesto\")\n",
        "\n",
        "# Límite en la varianza\n",
        "restriccion_riesgo = m.addConstr(x @ Sigma.to_numpy() @ x <= V, name=\"restriccion_riesgo\")\n",
        "\n",
        "m.params.MIPGap = 0\n",
        "m.params.NonConvex = 2\n",
        "\n",
        "# Definir la función objetivo: Maximizar el rendimiento esperado\n",
        "m.setObjective(mu.to_numpy() @ x, gp.GRB.MAXIMIZE)"
      ]
    },
    {
      "cell_type": "markdown",
      "id": "0d6f274d",
      "metadata": {
        "id": "0d6f274d"
      },
      "source": [
        "Resolvemos:"
      ]
    },
    {
      "cell_type": "code",
      "execution_count": null,
      "id": "e0c51922",
      "metadata": {
        "execution": {
          "iopub.execute_input": "2024-06-10T06:22:47.956580Z",
          "iopub.status.busy": "2024-06-10T06:22:47.955574Z",
          "iopub.status.idle": "2024-06-10T06:22:48.246817Z",
          "shell.execute_reply": "2024-06-10T06:22:48.246182Z"
        },
        "id": "e0c51922",
        "colab": {
          "base_uri": "https://localhost:8080/"
        },
        "outputId": "586047ae-8755-4b84-85d9-07f81b34d537"
      },
      "outputs": [
        {
          "output_type": "stream",
          "name": "stdout",
          "text": [
            "Gurobi Optimizer version 12.0.3 build v12.0.3rc0 (linux64 - \"Ubuntu 22.04.4 LTS\")\n",
            "\n",
            "CPU model: Intel(R) Xeon(R) CPU @ 2.20GHz, instruction set [SSE2|AVX|AVX2]\n",
            "Thread count: 1 physical cores, 2 logical processors, using up to 2 threads\n",
            "\n",
            "Non-default parameters:\n",
            "MIPGap  0\n",
            "NonConvex  2\n",
            "\n",
            "Optimize a model with 1 rows, 10 columns and 10 nonzeros\n",
            "Model fingerprint: 0x3115202e\n",
            "Model has 1 quadratic constraint\n",
            "Coefficient statistics:\n",
            "  Matrix range     [1e+00, 1e+00]\n",
            "  QMatrix range    [2e-02, 3e+02]\n",
            "  Objective range  [1e+00, 4e+00]\n",
            "  Bounds range     [0e+00, 0e+00]\n",
            "  RHS range        [1e+00, 1e+00]\n",
            "  QRHS range       [4e+01, 4e+01]\n",
            "Presolve time: 0.01s\n",
            "Presolved: 11 rows, 21 columns, 75 nonzeros\n",
            "Presolved model has 1 second-order cone constraint\n",
            "Ordering time: 0.00s\n",
            "\n",
            "Barrier statistics:\n",
            " Free vars  : 10\n",
            " AA' NZ     : 5.500e+01\n",
            " Factor NZ  : 6.600e+01\n",
            " Factor Ops : 5.060e+02 (less than 1 second per iteration)\n",
            " Threads    : 1\n",
            "\n",
            "                  Objective                Residual\n",
            "Iter       Primal          Dual         Primal    Dual     Compl     Time\n",
            "   0   2.05989204e+00  5.91607978e-01  2.07e+00 3.52e+00  6.65e-02     0s\n",
            "   1   3.93008422e+00  6.09882554e+00  1.45e+00 1.69e-03  2.90e-01     0s\n",
            "   2   3.91472238e+00  3.99331070e+00  1.60e-06 4.89e-06  6.55e-03     0s\n",
            "   3   3.95824602e+00  3.97160564e+00  1.40e-10 4.79e-08  1.11e-03     0s\n",
            "   4   3.97117139e+00  3.97121126e+00  2.66e-13 9.25e-09  3.32e-06     0s\n",
            "   5   3.97118636e+00  3.97118650e+00  1.47e-12 1.67e-10  1.22e-08     0s\n",
            "\n",
            "Barrier solved model in 5 iterations and 0.03 seconds (0.00 work units)\n",
            "Optimal objective 3.97118636e+00\n",
            "\n"
          ]
        }
      ],
      "source": [
        "m.optimize()"
      ]
    },
    {
      "cell_type": "markdown",
      "id": "c781a2be",
      "metadata": {
        "id": "c781a2be"
      },
      "source": [
        "Mostrar los datos básicos de la solución:"
      ]
    },
    {
      "cell_type": "code",
      "execution_count": null,
      "id": "629b52ad",
      "metadata": {
        "execution": {
          "iopub.execute_input": "2024-06-10T06:22:48.249372Z",
          "iopub.status.busy": "2024-06-10T06:22:48.249151Z",
          "iopub.status.idle": "2024-06-10T06:22:48.258214Z",
          "shell.execute_reply": "2024-06-10T06:22:48.257680Z"
        },
        "id": "629b52ad",
        "colab": {
          "base_uri": "https://localhost:8080/"
        },
        "outputId": "eb93ba55-cf52-4766-aef6-efdf118506ad"
      },
      "outputs": [
        {
          "output_type": "stream",
          "name": "stdout",
          "text": [
            "Varianza:         34.999999\n",
            "Tiempo de solución:    0.03 segundos\n",
            "\n",
            "Número de transacciones positivas: 6\n",
            "\n",
            "CALICHERAB Cierre Ix    0.180300\n",
            "ENAEX Cierre Ix         0.890284\n",
            "CHILE Cierre Ix         0.468500\n",
            "MALLPLAZA Cierre Ix     0.025443\n",
            "INDISA Cierre Ix        0.069152\n",
            "HABITAT Cierre Ix       0.462974\n",
            "Name: Posición, dtype: float64\n",
            "\n",
            "Número de transacciones negativas: 4\n",
            "\n",
            "VOLCAN Cierre Ix       -0.055931\n",
            "SALFACORP Cierre Ix    -0.190112\n",
            "ANTARCHILE Cierre Ix   -0.341495\n",
            "SK Cierre Ix           -0.509115\n",
            "Name: Posición, dtype: float64\n"
          ]
        }
      ],
      "source": [
        "print(f\"Varianza:         {x.X @ Sigma @ x.X:.6f}\")\n",
        "print(f\"Tiempo de solución:    {m.Runtime:.2f} segundos\\n\")\n",
        "\n",
        "# Imprimir inversiones (con valores no despreciables, es decir, > 1e-6)\n",
        "positions = pd.Series(name=\"Posición\", data=x.X, index=mu.index)\n",
        "print(f\"Número de transacciones positivas: {positions[positions > 1e-6].count()}\\n\")\n",
        "print(positions[positions > 1e-6])\n",
        "print(f\"\\nNúmero de transacciones negativas: {positions[positions < -1e-6].count()}\\n\")\n",
        "print(positions[positions < -1e-6])"
      ]
    },
    {
      "cell_type": "code",
      "execution_count": null,
      "id": "5f1c628f",
      "metadata": {
        "id": "5f1c628f"
      },
      "outputs": [],
      "source": [
        "df = pd.DataFrame(\n",
        "    index=mu.index,\n",
        "    data={\n",
        "        \"x\": x.X,\n",
        "    },\n",
        ").round(6)"
      ]
    },
    {
      "cell_type": "code",
      "execution_count": null,
      "id": "3360fe73",
      "metadata": {
        "id": "3360fe73",
        "colab": {
          "base_uri": "https://localhost:8080/",
          "height": 483
        },
        "outputId": "fa208340-e0ac-49e4-96bb-0315e16d80ad"
      },
      "outputs": [
        {
          "output_type": "display_data",
          "data": {
            "text/plain": [
              "<Figure size 640x480 with 1 Axes>"
            ],
            "image/png": "[encoded data removed]"
          },
          "metadata": {}
        }
      ],
      "source": [
        "# adjust RHS of short constraint\n",
        "x.lb = 0\n",
        "x.ub = 1\n",
        "m.params.OutputFlag = 0\n",
        "m.optimize()\n",
        "\n",
        "# retrieve and display solution data\n",
        "mask = (abs(df[\"x\"]) > 1e-6) | (x.X > 1e-6)\n",
        "df2 = pd.DataFrame(\n",
        "    index=df[\"x\"][mask].index,\n",
        "    data={\n",
        "        \"Inversión con Apalancamiento\": df[\"x\"],\n",
        "        \"Inversión sin Apalancamiento\": x.X[mask],\n",
        "    },\n",
        ").sort_values(by=[\"Inversión con Apalancamiento\"], ascending=True)\n",
        "\n",
        "axs = df2.plot.barh()\n",
        "axs.set_xlabel(\"Fracción de la suma de inversiones\")\n",
        "plt.title(\"Portafolios de Máximo Retorno con y sin apalancamiento para $V=35$\")\n",
        "plt.show()"
      ]
    }
  ],
  "metadata": {
    "kernelspec": {
      "display_name": "Python 3",
      "language": "python",
      "name": "python3"
    },
    "language_info": {
      "codemirror_mode": {
        "name": "ipython",
        "version": 3
      },
      "file_extension": ".py",
      "mimetype": "text/x-python",
      "name": "python",
      "nbconvert_exporter": "python",
      "pygments_lexer": "ipython3",
      "version": "3.10.11"
    },
    "colab": {
      "provenance": [],
      "include_colab_link": true
    }
  },
  "nbformat": 4,
  "nbformat_minor": 5
}